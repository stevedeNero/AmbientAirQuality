{
 "cells": [
  {
   "cell_type": "code",
   "execution_count": null,
   "metadata": {},
   "outputs": [],
   "source": [
    "import requests\n",
    "from bs4 import BeautifulSoup\n",
    "\n",
    "def get_cam_listings():\n",
    "    '''\n",
    "    This function looks at the TCEQ's Monitor Site Listings Website and pulls the CAMS ID for each monitor available across the state\n",
    "    Returns: a list containing the ID of each CAMS monitor.\n",
    "    '''\n",
    "    resp = requests.get(\"https://www.tceq.texas.gov/cgi-bin/compliance/monops/site_info.pl\")\n",
    "    soup = BeautifulSoup(resp.text, 'html.parser') \n",
    "    tables = soup.find_all(\"table\")\n",
    "    table = tables[4]\n",
    "    # table\n",
    "\n",
    "    trs = table.findAll('tr')\n",
    "    # for tr in trs[1:]:\n",
    "    #     print(tr.find('a').text)\n",
    "    cam_options = [tr.find('a').text for tr in trs[1:]]\n",
    "    return cam_options\n",
    "\n",
    "def get_and_store_html(id):\n",
    "    '''\n",
    "    This function downloads to local storage the current day's monitoring data at each CAMS listing across Texas.\n",
    "    All files are saved to the \"./cams/\" subdirectory\n",
    "    Returns: Nothing.\n",
    "    '''\n",
    "    resp = requests.get(f\"https://www.tceq.texas.gov/cgi-bin/compliance/monops/daily_summary.pl?cams={id}\")\n",
    "    html = resp.text\n",
    "    with open(f\"cams/{id}.html\", 'w') as f:\n",
    "        f.write(html)\n",
    "\n",
    "# for i in range(40,100):\n",
    "cams_list = get_cam_listings()\n",
    "print(cams_list)\n",
    "# for i in cams_list:\n",
    "#     get_and_store_html(i)\n",
    "#     print('success!',i)\n",
    "\n",
    "\n",
    "# soup = BeautifulSoup(resp.text) \n",
    "# tables = soup.find_all(\"table\")\n",
    "# table = tables[3]\n",
    "# table"
   ]
  },
  {
   "cell_type": "code",
   "execution_count": 19,
   "metadata": {},
   "outputs": [],
   "source": [
    "import pandas as pd\n",
    "from bs4 import BeautifulSoup\n",
    "\n",
    "#So far this only works if the monitor has BOTH parameters. Need to separate it out so that it can read either-or.\n",
    "\n",
    "def build_df(id):\n",
    "    '''\n",
    "    This function collects the desired parameter values for the current day given a specified monitor ID input.\n",
    "    Returns: a dataframe object of monitor parameter values for a given single monitor\n",
    "    '''\n",
    "    # def get_param_index(param = \"Ozone\"):\n",
    "    def get_param_index(param):\n",
    "        '''\n",
    "        This function is called by \"get_values\". It is used to find the table index of the desired parameter. \n",
    "        Returns: an integer value of the index.\n",
    "        '''\n",
    "        for i in range(2,len(trs)-4):    \n",
    "            tr = trs[i]\n",
    "            param_txt = tr.find_all(\"td\")[0].text.strip()\n",
    "            # print('in get_param_index: ',i,param_txt)\n",
    "            if param in param_txt:\n",
    "                return i\n",
    "\n",
    "    def get_values_at_idx(i):\n",
    "        '''\n",
    "        This function is called by \"get_values\". it is used to find the values in the TCEQ monitoring table at a specific index.\n",
    "        text.strip(). all leading and trailing whitespaces are removed from the string\n",
    "        first column is the parameter name. last two columns are parameter name and Parameter Occurence Code (POC). Skip these.\n",
    "        Returns: a list of recorded values for the day so far. Numeric and Text both possible for individual td values.\n",
    "        '''\n",
    "        vals = []\n",
    "        for td in trs[i].find_all(\"td\")[1:-2]:\n",
    "            txt = td.text.strip()\n",
    "            vals.append(txt)\n",
    "            # print('In get_values_at_idx :',txt)\n",
    "        # print('In get_values_at_idx :',vals)\n",
    "        \n",
    "        return vals, len(vals)\n",
    "        # return vals\n",
    "\n",
    "    #def get_values(param = \"Ozone\") -> list:\n",
    "    def get_values(param) -> list:\n",
    "        '''\n",
    "        This function finds the index of the input parameter (default Ozone)\n",
    "        Returns: a list of recorded values for the day so far. Numeric and Text both possible for individual td values.\n",
    "        '''\n",
    "        idx = get_param_index(param)\n",
    "        return get_values_at_idx(idx)\n",
    "\n",
    "    def get_trs_from_id(id = 23) -> str:\n",
    "        '''\n",
    "        This function opens a locally-saved HTML page and returns the table rows for the last table on the page.\n",
    "        Returns: All table rows within the page's last table.\n",
    "        '''\n",
    "        with open(f\"cams/{id}.html\", 'r') as f:\n",
    "            html = f.read()\n",
    "\n",
    "        soup = BeautifulSoup(html)\n",
    "        table = soup.find_all('table')[-1]\n",
    "        return table.find_all('tr')\n",
    "    \n",
    "    trs = get_trs_from_id(id)\n",
    "    params = [\"Ozone\",\"PM-2.5\"]\n",
    "    data = {}    \n",
    "    \n",
    "    # If the given monitor doesnt have ALL parameters available, this causes an error. Need to also allow for monitors that have >=1 params, but not necessarily all.\n",
    "    for param in params:\n",
    "        # vals = get_values(param)\n",
    "        # num_hours = len(vals)\n",
    "        data[param], num_hours = get_values(param)\n",
    "        # data[param] = get_values(param)\n",
    "        # print('In Param Loop: ',data[param], num_hours)\n",
    "    \n",
    "    \n",
    "    # Notes. if we move params outside this loop, you're calling the HTML twice, and then you need a param-specific ID value. \"Ozone Value\", \"Ozone ID\". And then afterward if \"Ozone ID\" and \"PM2.5 ID\" match, you could combine/condense.\n",
    "    # for param in params:\n",
    "    #     try:\n",
    "    #         data[param] = get_values(param)\n",
    "    #     except Exception as e:\n",
    "    #         empty_list = [\"empty\" for i in range(0,1)]\n",
    "    #         data[param] = empty_list\n",
    "    #     print('In Param Loop: ',data[param])\n",
    "        \n",
    "    df = pd.DataFrame(data)\n",
    "    df['CAMS_ID'] = id\n",
    "    hours_list = [i for i in range(0, num_hours)]\n",
    "    df['Hour'] = hours_list\n",
    "    # print(df)\n",
    "    return df\n",
    "\n",
    "dfs = []\n",
    "# for i in cams_list:\n",
    "for i in [3]:\n",
    "    try:\n",
    "        dfs.append(build_df(i))\n",
    "    except Exception as e:\n",
    "        pass\n",
    "        # print(i, e)\n",
    "\n",
    "df = pd.concat(dfs).reset_index(drop=True)\n",
    "# df\n",
    "    "
   ]
  },
  {
   "cell_type": "code",
   "execution_count": null,
   "metadata": {},
   "outputs": [],
   "source": [
    "# sorted(df._id.unique())\n",
    "df.CAMS_ID.unique()\n",
    "'3' in df.CAMS_ID.unique()"
   ]
  },
  {
   "cell_type": "code",
   "execution_count": 20,
   "metadata": {},
   "outputs": [
    {
     "data": {
      "text/html": [
       "<div>\n",
       "<style scoped>\n",
       "    .dataframe tbody tr th:only-of-type {\n",
       "        vertical-align: middle;\n",
       "    }\n",
       "\n",
       "    .dataframe tbody tr th {\n",
       "        vertical-align: top;\n",
       "    }\n",
       "\n",
       "    .dataframe thead th {\n",
       "        text-align: right;\n",
       "    }\n",
       "</style>\n",
       "<table border=\"1\" class=\"dataframe\">\n",
       "  <thead>\n",
       "    <tr style=\"text-align: right;\">\n",
       "      <th></th>\n",
       "      <th>Ozone</th>\n",
       "      <th>PM-2.5</th>\n",
       "      <th>CAMS_ID</th>\n",
       "      <th>Hour</th>\n",
       "    </tr>\n",
       "  </thead>\n",
       "  <tbody>\n",
       "    <tr>\n",
       "      <th>0</th>\n",
       "      <td>22.0</td>\n",
       "      <td>6.0</td>\n",
       "      <td>3</td>\n",
       "      <td>0</td>\n",
       "    </tr>\n",
       "    <tr>\n",
       "      <th>1</th>\n",
       "      <td>20.0</td>\n",
       "      <td>3.0</td>\n",
       "      <td>3</td>\n",
       "      <td>1</td>\n",
       "    </tr>\n",
       "    <tr>\n",
       "      <th>2</th>\n",
       "      <td>21.0</td>\n",
       "      <td>0.0</td>\n",
       "      <td>3</td>\n",
       "      <td>2</td>\n",
       "    </tr>\n",
       "    <tr>\n",
       "      <th>3</th>\n",
       "      <td>22.0</td>\n",
       "      <td>3.0</td>\n",
       "      <td>3</td>\n",
       "      <td>3</td>\n",
       "    </tr>\n",
       "    <tr>\n",
       "      <th>4</th>\n",
       "      <td>20.0</td>\n",
       "      <td>4.0</td>\n",
       "      <td>3</td>\n",
       "      <td>4</td>\n",
       "    </tr>\n",
       "    <tr>\n",
       "      <th>5</th>\n",
       "      <td>19.0</td>\n",
       "      <td>4.0</td>\n",
       "      <td>3</td>\n",
       "      <td>5</td>\n",
       "    </tr>\n",
       "    <tr>\n",
       "      <th>6</th>\n",
       "      <td>19.0</td>\n",
       "      <td>5.0</td>\n",
       "      <td>3</td>\n",
       "      <td>6</td>\n",
       "    </tr>\n",
       "    <tr>\n",
       "      <th>7</th>\n",
       "      <td>21.0</td>\n",
       "      <td>8.0</td>\n",
       "      <td>3</td>\n",
       "      <td>7</td>\n",
       "    </tr>\n",
       "    <tr>\n",
       "      <th>8</th>\n",
       "      <td>24.0</td>\n",
       "      <td>18.0</td>\n",
       "      <td>3</td>\n",
       "      <td>8</td>\n",
       "    </tr>\n",
       "    <tr>\n",
       "      <th>9</th>\n",
       "      <td>30.0</td>\n",
       "      <td>17.0</td>\n",
       "      <td>3</td>\n",
       "      <td>9</td>\n",
       "    </tr>\n",
       "    <tr>\n",
       "      <th>10</th>\n",
       "      <td>35.0</td>\n",
       "      <td>16.0</td>\n",
       "      <td>3</td>\n",
       "      <td>10</td>\n",
       "    </tr>\n",
       "    <tr>\n",
       "      <th>11</th>\n",
       "      <td>38.0</td>\n",
       "      <td>16.0</td>\n",
       "      <td>3</td>\n",
       "      <td>11</td>\n",
       "    </tr>\n",
       "    <tr>\n",
       "      <th>12</th>\n",
       "      <td>40.0</td>\n",
       "      <td>15.0</td>\n",
       "      <td>3</td>\n",
       "      <td>12</td>\n",
       "    </tr>\n",
       "    <tr>\n",
       "      <th>13</th>\n",
       "      <td>43.0</td>\n",
       "      <td>20.0</td>\n",
       "      <td>3</td>\n",
       "      <td>13</td>\n",
       "    </tr>\n",
       "    <tr>\n",
       "      <th>14</th>\n",
       "      <td>44.0</td>\n",
       "      <td>17.0</td>\n",
       "      <td>3</td>\n",
       "      <td>14</td>\n",
       "    </tr>\n",
       "    <tr>\n",
       "      <th>15</th>\n",
       "      <td>46.0</td>\n",
       "      <td>NaN</td>\n",
       "      <td>3</td>\n",
       "      <td>15</td>\n",
       "    </tr>\n",
       "    <tr>\n",
       "      <th>16</th>\n",
       "      <td>NaN</td>\n",
       "      <td>NaN</td>\n",
       "      <td>3</td>\n",
       "      <td>16</td>\n",
       "    </tr>\n",
       "    <tr>\n",
       "      <th>17</th>\n",
       "      <td>NaN</td>\n",
       "      <td>NaN</td>\n",
       "      <td>3</td>\n",
       "      <td>17</td>\n",
       "    </tr>\n",
       "  </tbody>\n",
       "</table>\n",
       "</div>"
      ],
      "text/plain": [
       "    Ozone  PM-2.5  CAMS_ID  Hour\n",
       "0    22.0     6.0        3     0\n",
       "1    20.0     3.0        3     1\n",
       "2    21.0     0.0        3     2\n",
       "3    22.0     3.0        3     3\n",
       "4    20.0     4.0        3     4\n",
       "5    19.0     4.0        3     5\n",
       "6    19.0     5.0        3     6\n",
       "7    21.0     8.0        3     7\n",
       "8    24.0    18.0        3     8\n",
       "9    30.0    17.0        3     9\n",
       "10   35.0    16.0        3    10\n",
       "11   38.0    16.0        3    11\n",
       "12   40.0    15.0        3    12\n",
       "13   43.0    20.0        3    13\n",
       "14   44.0    17.0        3    14\n",
       "15   46.0     NaN        3    15\n",
       "16    NaN     NaN        3    16\n",
       "17    NaN     NaN        3    17"
      ]
     },
     "execution_count": 20,
     "metadata": {},
     "output_type": "execute_result"
    }
   ],
   "source": [
    "val_errors = [\"NA\",\"LST\",\"FEW\",\"CAL\",\"LIM\",\"NOD\",\"NEG\",\"QAS\",\"PMA\",\"SPN\"]\n",
    "df['Ozone'] = df['Ozone'].apply(lambda x: float(x) if x not in val_errors else None)\n",
    "df['PM-2.5'] = df['PM-2.5'].apply(lambda x: float(x) if x not in val_errors else None)\n",
    "df.to_csv(\"transformed/cleaner.csv\", index=False)\n",
    "df"
   ]
  },
  {
   "cell_type": "code",
   "execution_count": 36,
   "metadata": {},
   "outputs": [
    {
     "data": {
      "application/vnd.plotly.v1+json": {
       "config": {
        "plotlyServerURL": "https://plot.ly"
       },
       "data": [
        {
         "hovertemplate": "Particulate Concentration (ug/m3)=%{x}<br>Ozone Concentration (ppb)=%{y}<br>CAMS_ID=%{text}<br>Hour=%{marker.color}<extra></extra>",
         "legendgroup": "",
         "marker": {
          "color": [
           0,
           1,
           2,
           3,
           4,
           5,
           6,
           7,
           8,
           9,
           10,
           11,
           12,
           13,
           14,
           15,
           16,
           17
          ],
          "coloraxis": "coloraxis",
          "symbol": "circle"
         },
         "mode": "markers+text",
         "name": "",
         "orientation": "v",
         "showlegend": false,
         "text": [
          3,
          3,
          3,
          3,
          3,
          3,
          3,
          3,
          3,
          3,
          3,
          3,
          3,
          3,
          3,
          3,
          3,
          3
         ],
         "textposition": "top right",
         "type": "scatter",
         "x": [
          6,
          3,
          0,
          3,
          4,
          4,
          5,
          8,
          18,
          17,
          16,
          16,
          15,
          20,
          17,
          null,
          null,
          null
         ],
         "xaxis": "x",
         "y": [
          22,
          20,
          21,
          22,
          20,
          19,
          19,
          21,
          24,
          30,
          35,
          38,
          40,
          43,
          44,
          46,
          null,
          null
         ],
         "yaxis": "y"
        }
       ],
       "layout": {
        "coloraxis": {
         "colorbar": {
          "title": {
           "text": "Hour"
          }
         },
         "colorscale": [
          [
           0,
           "#0d0887"
          ],
          [
           0.1111111111111111,
           "#46039f"
          ],
          [
           0.2222222222222222,
           "#7201a8"
          ],
          [
           0.3333333333333333,
           "#9c179e"
          ],
          [
           0.4444444444444444,
           "#bd3786"
          ],
          [
           0.5555555555555556,
           "#d8576b"
          ],
          [
           0.6666666666666666,
           "#ed7953"
          ],
          [
           0.7777777777777778,
           "#fb9f3a"
          ],
          [
           0.8888888888888888,
           "#fdca26"
          ],
          [
           1,
           "#f0f921"
          ]
         ]
        },
        "legend": {
         "tracegroupgap": 0
        },
        "template": {
         "data": {
          "bar": [
           {
            "error_x": {
             "color": "#2a3f5f"
            },
            "error_y": {
             "color": "#2a3f5f"
            },
            "marker": {
             "line": {
              "color": "#E5ECF6",
              "width": 0.5
             },
             "pattern": {
              "fillmode": "overlay",
              "size": 10,
              "solidity": 0.2
             }
            },
            "type": "bar"
           }
          ],
          "barpolar": [
           {
            "marker": {
             "line": {
              "color": "#E5ECF6",
              "width": 0.5
             },
             "pattern": {
              "fillmode": "overlay",
              "size": 10,
              "solidity": 0.2
             }
            },
            "type": "barpolar"
           }
          ],
          "carpet": [
           {
            "aaxis": {
             "endlinecolor": "#2a3f5f",
             "gridcolor": "white",
             "linecolor": "white",
             "minorgridcolor": "white",
             "startlinecolor": "#2a3f5f"
            },
            "baxis": {
             "endlinecolor": "#2a3f5f",
             "gridcolor": "white",
             "linecolor": "white",
             "minorgridcolor": "white",
             "startlinecolor": "#2a3f5f"
            },
            "type": "carpet"
           }
          ],
          "choropleth": [
           {
            "colorbar": {
             "outlinewidth": 0,
             "ticks": ""
            },
            "type": "choropleth"
           }
          ],
          "contour": [
           {
            "colorbar": {
             "outlinewidth": 0,
             "ticks": ""
            },
            "colorscale": [
             [
              0,
              "#0d0887"
             ],
             [
              0.1111111111111111,
              "#46039f"
             ],
             [
              0.2222222222222222,
              "#7201a8"
             ],
             [
              0.3333333333333333,
              "#9c179e"
             ],
             [
              0.4444444444444444,
              "#bd3786"
             ],
             [
              0.5555555555555556,
              "#d8576b"
             ],
             [
              0.6666666666666666,
              "#ed7953"
             ],
             [
              0.7777777777777778,
              "#fb9f3a"
             ],
             [
              0.8888888888888888,
              "#fdca26"
             ],
             [
              1,
              "#f0f921"
             ]
            ],
            "type": "contour"
           }
          ],
          "contourcarpet": [
           {
            "colorbar": {
             "outlinewidth": 0,
             "ticks": ""
            },
            "type": "contourcarpet"
           }
          ],
          "heatmap": [
           {
            "colorbar": {
             "outlinewidth": 0,
             "ticks": ""
            },
            "colorscale": [
             [
              0,
              "#0d0887"
             ],
             [
              0.1111111111111111,
              "#46039f"
             ],
             [
              0.2222222222222222,
              "#7201a8"
             ],
             [
              0.3333333333333333,
              "#9c179e"
             ],
             [
              0.4444444444444444,
              "#bd3786"
             ],
             [
              0.5555555555555556,
              "#d8576b"
             ],
             [
              0.6666666666666666,
              "#ed7953"
             ],
             [
              0.7777777777777778,
              "#fb9f3a"
             ],
             [
              0.8888888888888888,
              "#fdca26"
             ],
             [
              1,
              "#f0f921"
             ]
            ],
            "type": "heatmap"
           }
          ],
          "heatmapgl": [
           {
            "colorbar": {
             "outlinewidth": 0,
             "ticks": ""
            },
            "colorscale": [
             [
              0,
              "#0d0887"
             ],
             [
              0.1111111111111111,
              "#46039f"
             ],
             [
              0.2222222222222222,
              "#7201a8"
             ],
             [
              0.3333333333333333,
              "#9c179e"
             ],
             [
              0.4444444444444444,
              "#bd3786"
             ],
             [
              0.5555555555555556,
              "#d8576b"
             ],
             [
              0.6666666666666666,
              "#ed7953"
             ],
             [
              0.7777777777777778,
              "#fb9f3a"
             ],
             [
              0.8888888888888888,
              "#fdca26"
             ],
             [
              1,
              "#f0f921"
             ]
            ],
            "type": "heatmapgl"
           }
          ],
          "histogram": [
           {
            "marker": {
             "pattern": {
              "fillmode": "overlay",
              "size": 10,
              "solidity": 0.2
             }
            },
            "type": "histogram"
           }
          ],
          "histogram2d": [
           {
            "colorbar": {
             "outlinewidth": 0,
             "ticks": ""
            },
            "colorscale": [
             [
              0,
              "#0d0887"
             ],
             [
              0.1111111111111111,
              "#46039f"
             ],
             [
              0.2222222222222222,
              "#7201a8"
             ],
             [
              0.3333333333333333,
              "#9c179e"
             ],
             [
              0.4444444444444444,
              "#bd3786"
             ],
             [
              0.5555555555555556,
              "#d8576b"
             ],
             [
              0.6666666666666666,
              "#ed7953"
             ],
             [
              0.7777777777777778,
              "#fb9f3a"
             ],
             [
              0.8888888888888888,
              "#fdca26"
             ],
             [
              1,
              "#f0f921"
             ]
            ],
            "type": "histogram2d"
           }
          ],
          "histogram2dcontour": [
           {
            "colorbar": {
             "outlinewidth": 0,
             "ticks": ""
            },
            "colorscale": [
             [
              0,
              "#0d0887"
             ],
             [
              0.1111111111111111,
              "#46039f"
             ],
             [
              0.2222222222222222,
              "#7201a8"
             ],
             [
              0.3333333333333333,
              "#9c179e"
             ],
             [
              0.4444444444444444,
              "#bd3786"
             ],
             [
              0.5555555555555556,
              "#d8576b"
             ],
             [
              0.6666666666666666,
              "#ed7953"
             ],
             [
              0.7777777777777778,
              "#fb9f3a"
             ],
             [
              0.8888888888888888,
              "#fdca26"
             ],
             [
              1,
              "#f0f921"
             ]
            ],
            "type": "histogram2dcontour"
           }
          ],
          "mesh3d": [
           {
            "colorbar": {
             "outlinewidth": 0,
             "ticks": ""
            },
            "type": "mesh3d"
           }
          ],
          "parcoords": [
           {
            "line": {
             "colorbar": {
              "outlinewidth": 0,
              "ticks": ""
             }
            },
            "type": "parcoords"
           }
          ],
          "pie": [
           {
            "automargin": true,
            "type": "pie"
           }
          ],
          "scatter": [
           {
            "fillpattern": {
             "fillmode": "overlay",
             "size": 10,
             "solidity": 0.2
            },
            "type": "scatter"
           }
          ],
          "scatter3d": [
           {
            "line": {
             "colorbar": {
              "outlinewidth": 0,
              "ticks": ""
             }
            },
            "marker": {
             "colorbar": {
              "outlinewidth": 0,
              "ticks": ""
             }
            },
            "type": "scatter3d"
           }
          ],
          "scattercarpet": [
           {
            "marker": {
             "colorbar": {
              "outlinewidth": 0,
              "ticks": ""
             }
            },
            "type": "scattercarpet"
           }
          ],
          "scattergeo": [
           {
            "marker": {
             "colorbar": {
              "outlinewidth": 0,
              "ticks": ""
             }
            },
            "type": "scattergeo"
           }
          ],
          "scattergl": [
           {
            "marker": {
             "colorbar": {
              "outlinewidth": 0,
              "ticks": ""
             }
            },
            "type": "scattergl"
           }
          ],
          "scattermapbox": [
           {
            "marker": {
             "colorbar": {
              "outlinewidth": 0,
              "ticks": ""
             }
            },
            "type": "scattermapbox"
           }
          ],
          "scatterpolar": [
           {
            "marker": {
             "colorbar": {
              "outlinewidth": 0,
              "ticks": ""
             }
            },
            "type": "scatterpolar"
           }
          ],
          "scatterpolargl": [
           {
            "marker": {
             "colorbar": {
              "outlinewidth": 0,
              "ticks": ""
             }
            },
            "type": "scatterpolargl"
           }
          ],
          "scatterternary": [
           {
            "marker": {
             "colorbar": {
              "outlinewidth": 0,
              "ticks": ""
             }
            },
            "type": "scatterternary"
           }
          ],
          "surface": [
           {
            "colorbar": {
             "outlinewidth": 0,
             "ticks": ""
            },
            "colorscale": [
             [
              0,
              "#0d0887"
             ],
             [
              0.1111111111111111,
              "#46039f"
             ],
             [
              0.2222222222222222,
              "#7201a8"
             ],
             [
              0.3333333333333333,
              "#9c179e"
             ],
             [
              0.4444444444444444,
              "#bd3786"
             ],
             [
              0.5555555555555556,
              "#d8576b"
             ],
             [
              0.6666666666666666,
              "#ed7953"
             ],
             [
              0.7777777777777778,
              "#fb9f3a"
             ],
             [
              0.8888888888888888,
              "#fdca26"
             ],
             [
              1,
              "#f0f921"
             ]
            ],
            "type": "surface"
           }
          ],
          "table": [
           {
            "cells": {
             "fill": {
              "color": "#EBF0F8"
             },
             "line": {
              "color": "white"
             }
            },
            "header": {
             "fill": {
              "color": "#C8D4E3"
             },
             "line": {
              "color": "white"
             }
            },
            "type": "table"
           }
          ]
         },
         "layout": {
          "annotationdefaults": {
           "arrowcolor": "#2a3f5f",
           "arrowhead": 0,
           "arrowwidth": 1
          },
          "autotypenumbers": "strict",
          "coloraxis": {
           "colorbar": {
            "outlinewidth": 0,
            "ticks": ""
           }
          },
          "colorscale": {
           "diverging": [
            [
             0,
             "#8e0152"
            ],
            [
             0.1,
             "#c51b7d"
            ],
            [
             0.2,
             "#de77ae"
            ],
            [
             0.3,
             "#f1b6da"
            ],
            [
             0.4,
             "#fde0ef"
            ],
            [
             0.5,
             "#f7f7f7"
            ],
            [
             0.6,
             "#e6f5d0"
            ],
            [
             0.7,
             "#b8e186"
            ],
            [
             0.8,
             "#7fbc41"
            ],
            [
             0.9,
             "#4d9221"
            ],
            [
             1,
             "#276419"
            ]
           ],
           "sequential": [
            [
             0,
             "#0d0887"
            ],
            [
             0.1111111111111111,
             "#46039f"
            ],
            [
             0.2222222222222222,
             "#7201a8"
            ],
            [
             0.3333333333333333,
             "#9c179e"
            ],
            [
             0.4444444444444444,
             "#bd3786"
            ],
            [
             0.5555555555555556,
             "#d8576b"
            ],
            [
             0.6666666666666666,
             "#ed7953"
            ],
            [
             0.7777777777777778,
             "#fb9f3a"
            ],
            [
             0.8888888888888888,
             "#fdca26"
            ],
            [
             1,
             "#f0f921"
            ]
           ],
           "sequentialminus": [
            [
             0,
             "#0d0887"
            ],
            [
             0.1111111111111111,
             "#46039f"
            ],
            [
             0.2222222222222222,
             "#7201a8"
            ],
            [
             0.3333333333333333,
             "#9c179e"
            ],
            [
             0.4444444444444444,
             "#bd3786"
            ],
            [
             0.5555555555555556,
             "#d8576b"
            ],
            [
             0.6666666666666666,
             "#ed7953"
            ],
            [
             0.7777777777777778,
             "#fb9f3a"
            ],
            [
             0.8888888888888888,
             "#fdca26"
            ],
            [
             1,
             "#f0f921"
            ]
           ]
          },
          "colorway": [
           "#636efa",
           "#EF553B",
           "#00cc96",
           "#ab63fa",
           "#FFA15A",
           "#19d3f3",
           "#FF6692",
           "#B6E880",
           "#FF97FF",
           "#FECB52"
          ],
          "font": {
           "color": "#2a3f5f"
          },
          "geo": {
           "bgcolor": "white",
           "lakecolor": "white",
           "landcolor": "#E5ECF6",
           "showlakes": true,
           "showland": true,
           "subunitcolor": "white"
          },
          "hoverlabel": {
           "align": "left"
          },
          "hovermode": "closest",
          "mapbox": {
           "style": "light"
          },
          "paper_bgcolor": "white",
          "plot_bgcolor": "#E5ECF6",
          "polar": {
           "angularaxis": {
            "gridcolor": "white",
            "linecolor": "white",
            "ticks": ""
           },
           "bgcolor": "#E5ECF6",
           "radialaxis": {
            "gridcolor": "white",
            "linecolor": "white",
            "ticks": ""
           }
          },
          "scene": {
           "xaxis": {
            "backgroundcolor": "#E5ECF6",
            "gridcolor": "white",
            "gridwidth": 2,
            "linecolor": "white",
            "showbackground": true,
            "ticks": "",
            "zerolinecolor": "white"
           },
           "yaxis": {
            "backgroundcolor": "#E5ECF6",
            "gridcolor": "white",
            "gridwidth": 2,
            "linecolor": "white",
            "showbackground": true,
            "ticks": "",
            "zerolinecolor": "white"
           },
           "zaxis": {
            "backgroundcolor": "#E5ECF6",
            "gridcolor": "white",
            "gridwidth": 2,
            "linecolor": "white",
            "showbackground": true,
            "ticks": "",
            "zerolinecolor": "white"
           }
          },
          "shapedefaults": {
           "line": {
            "color": "#2a3f5f"
           }
          },
          "ternary": {
           "aaxis": {
            "gridcolor": "white",
            "linecolor": "white",
            "ticks": ""
           },
           "baxis": {
            "gridcolor": "white",
            "linecolor": "white",
            "ticks": ""
           },
           "bgcolor": "#E5ECF6",
           "caxis": {
            "gridcolor": "white",
            "linecolor": "white",
            "ticks": ""
           }
          },
          "title": {
           "x": 0.05
          },
          "xaxis": {
           "automargin": true,
           "gridcolor": "white",
           "linecolor": "white",
           "ticks": "",
           "title": {
            "standoff": 15
           },
           "zerolinecolor": "white",
           "zerolinewidth": 2
          },
          "yaxis": {
           "automargin": true,
           "gridcolor": "white",
           "linecolor": "white",
           "ticks": "",
           "title": {
            "standoff": 15
           },
           "zerolinecolor": "white",
           "zerolinewidth": 2
          }
         }
        },
        "title": {
         "text": "Hourly Ozone and PM2.5 Concentrations Across Texas"
        },
        "xaxis": {
         "anchor": "y",
         "domain": [
          0,
          1
         ],
         "title": {
          "text": "Particulate Concentration (ug/m3)"
         }
        },
        "yaxis": {
         "anchor": "x",
         "domain": [
          0,
          1
         ],
         "title": {
          "text": "Ozone Concentration (ppb)"
         }
        }
       }
      }
     },
     "metadata": {},
     "output_type": "display_data"
    }
   ],
   "source": [
    "import plotly.express as px\n",
    "\n",
    "# px.box(df, x=\"CAMS_ID\", y=['Ozone','PM-2.5'])\n",
    "# filt = (df[\"CAMS_ID\"] != \"3001\") & (df[\"CAMS_ID\"] != \"41\")\n",
    "filt = df[\"CAMS_ID\"] == 3  #Its an INT, not a STR\n",
    "# px.scatter(df[filt], x=\"PM-2.5\", y=\"Ozone\", color=\"CAMS_ID\")\n",
    "# fig = px.scatter(df, x=\"PM-2.5\", y=\"Ozone\", color=\"CAMS_ID\", title=\"Hourly Ozone and PM2.5 Concentrations Across Texas\")\n",
    "# fig.show()\n",
    "fig = px.scatter(df[filt], x=\"PM-2.5\", \n",
    "y=\"Ozone\", \n",
    "color=\"Hour\", \n",
    "title=\"Hourly Ozone and PM2.5 Concentrations Across Texas\", \n",
    "text=\"CAMS_ID\",\n",
    "labels={\n",
    "    \"Hour\": \"Hour\",\n",
    "    \"Ozone\": \"Ozone Concentration (ppb)\",\n",
    "    \"PM-2.5\": \"Particulate Concentration (ug/m3)\"\n",
    "    })\n",
    "fig.update_traces(textposition='top right')"
   ]
  },
  {
   "cell_type": "code",
   "execution_count": 44,
   "metadata": {},
   "outputs": [
    {
     "data": {
      "text/plain": [
       "True"
      ]
     },
     "execution_count": 44,
     "metadata": {},
     "output_type": "execute_result"
    }
   ],
   "source": [
    "df.iloc[0,2] == 3\n",
    "df.loc[0:3,'Ozone']\n",
    "df.loc[0,'CAMS_ID'] == 3\n",
    "# filt = df[\"CAMS_ID\"] == \"3\"\n",
    "# df[filt]"
   ]
  },
  {
   "cell_type": "code",
   "execution_count": null,
   "metadata": {},
   "outputs": [],
   "source": [
    "class Example:\n",
    "    def __init__(self, name: str):\n",
    "        self.name = name\n",
    "\n",
    "eg = Example(\"parker\")\n",
    "eg.name"
   ]
  },
  {
   "cell_type": "code",
   "execution_count": null,
   "metadata": {},
   "outputs": [],
   "source": [
    "oz_idx = _get_param_index(\"Ozone\")\n",
    "pm_idx = _get_param_index(\"PM\")"
   ]
  },
  {
   "cell_type": "code",
   "execution_count": null,
   "metadata": {},
   "outputs": [],
   "source": [
    "pm25_tr = trs[-5]\n",
    "for td in trs[-5]:\n",
    "    print(td.text)"
   ]
  }
 ],
 "metadata": {
  "interpreter": {
   "hash": "8b092eb0fc01b821f9926a160b487ee746af3ab1108b6707348a52a8a2b41069"
  },
  "kernelspec": {
   "display_name": "Python 3.10.5 ('venv': venv)",
   "language": "python",
   "name": "python3"
  },
  "language_info": {
   "codemirror_mode": {
    "name": "ipython",
    "version": 3
   },
   "file_extension": ".py",
   "mimetype": "text/x-python",
   "name": "python",
   "nbconvert_exporter": "python",
   "pygments_lexer": "ipython3",
   "version": "3.10.5"
  },
  "orig_nbformat": 4
 },
 "nbformat": 4,
 "nbformat_minor": 2
}
