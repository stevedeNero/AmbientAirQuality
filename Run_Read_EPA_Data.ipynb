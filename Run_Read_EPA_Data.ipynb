{
 "cells": [
  {
   "cell_type": "code",
   "execution_count": null,
   "metadata": {},
   "outputs": [],
   "source": [
    "'''\n",
    "This module will read in the EPA's design values for the listed pollutants, and save the needed data to a \"monitor\" object.\n",
    "'''\n",
    "# from Read_EPA_Data import file_path, Start_Reading_Mon_Vals, read_o3_mon, read_no2_mon, read_so2_mon, read_pm25_mon\n",
    "from Read_EPA_Data import *\n",
    "\n",
    "MonitorDict = Start_Reading_Mon_Vals()\n",
    "MonitorDict = read_pb_mon(file_path, MonitorDict)\n",
    "MonitorDict = read_o3_mon(file_path, MonitorDict)\n",
    "MonitorDict = read_no2_mon(file_path, MonitorDict)\n",
    "MonitorDict = read_so2_mon(file_path, MonitorDict)\n",
    "MonitorDict = read_pm25_mon(file_path, MonitorDict)"
   ]
  },
  {
   "cell_type": "code",
   "execution_count": null,
   "metadata": {},
   "outputs": [],
   "source": [
    "# 2019-2021 DVs\n",
    "print(MonitorDict[\"482450011\"])"
   ]
  },
  {
   "cell_type": "code",
   "execution_count": null,
   "metadata": {},
   "outputs": [],
   "source": [
    "# 2019-2021 DVs\n",
    "print(MonitorDict[\"482451035\"])"
   ]
  },
  {
   "cell_type": "code",
   "execution_count": 17,
   "metadata": {},
   "outputs": [
    {
     "name": "stdout",
     "output_type": "stream",
     "text": [
      "Ozone 2019-2021:  0.065     AQS ID:  482450009 .    Beaumont Downtown\n",
      "Ozone 2019-2021:  0.062     AQS ID:  482450011 .    Port Arthur West\n",
      "Ozone 2019-2021:  0.063     AQS ID:  482450022 .    Hamshire\n",
      "Ozone 2019-2021:  0.066     AQS ID:  482450102 .    Setrpc 43 Jefferson Co Airport\n",
      "Ozone 2019-2021:  0.061     AQS ID:  482451035 .    Nederland High School\n"
     ]
    }
   ],
   "source": [
    "#What about printing all available monitors in a given state-county? Thatd be much more helpful.\n",
    "for AQS in MonitorDict:\n",
    "    if MonitorDict[AQS].get_county() == \"Jefferson\" and MonitorDict[AQS].get_state() == \"TX\" and MonitorDict[AQS].get_pollDV_o3() != \"N/A\":\n",
    "        print(\"Ozone 2019-2021: \",MonitorDict[AQS].get_pollDV_o3(),\"    AQS ID: \",MonitorDict[AQS].get_aqsid(),\".   \",MonitorDict[AQS].get_site())"
   ]
  },
  {
   "cell_type": "code",
   "execution_count": 52,
   "metadata": {},
   "outputs": [
    {
     "data": {
      "application/vnd.plotly.v1+json": {
       "config": {
        "plotlyServerURL": "https://plot.ly"
       },
       "data": [
        {
         "hovertemplate": "Monitor ID=481410037<br>Long=%{x}<br>Lat=%{y}<br>Ozone Concentration (ppb)=%{text}<extra></extra>",
         "legendgroup": "481410037",
         "marker": {
          "color": "#636efa",
          "symbol": "circle"
         },
         "mode": "markers+text",
         "name": "481410037",
         "orientation": "v",
         "showlegend": true,
         "text": [
          75
         ],
         "textposition": "top right",
         "type": "scatter",
         "x": [
          -106.501243
         ],
         "xaxis": "x",
         "y": [
          31.768286
         ],
         "yaxis": "y"
        },
        {
         "hovertemplate": "Monitor ID=480271045<br>Long=%{x}<br>Lat=%{y}<br>Ozone Concentration (ppb)=%{text}<extra></extra>",
         "legendgroup": "480271045",
         "marker": {
          "color": "#EF553B",
          "symbol": "circle"
         },
         "mode": "markers+text",
         "name": "480271045",
         "orientation": "v",
         "showlegend": true,
         "text": [
          64
         ],
         "textposition": "top right",
         "type": "scatter",
         "x": [
          -97.431052
         ],
         "xaxis": "x",
         "y": [
          31.122418999999997
         ],
         "yaxis": "y"
        },
        {
         "hovertemplate": "Monitor ID=480271047<br>Long=%{x}<br>Lat=%{y}<br>Ozone Concentration (ppb)=%{text}<extra></extra>",
         "legendgroup": "480271047",
         "marker": {
          "color": "#00cc96",
          "symbol": "circle"
         },
         "mode": "markers+text",
         "name": "480271047",
         "orientation": "v",
         "showlegend": true,
         "text": [
          66
         ],
         "textposition": "top right",
         "type": "scatter",
         "x": [
          -97.679734
         ],
         "xaxis": "x",
         "y": [
          31.088002
         ],
         "yaxis": "y"
        },
        {
         "hovertemplate": "Monitor ID=480290032<br>Long=%{x}<br>Lat=%{y}<br>Ozone Concentration (ppb)=%{text}<extra></extra>",
         "legendgroup": "480290032",
         "marker": {
          "color": "#ab63fa",
          "symbol": "circle"
         },
         "mode": "markers+text",
         "name": "480290032",
         "orientation": "v",
         "showlegend": true,
         "text": [
          71
         ],
         "textposition": "top right",
         "type": "scatter",
         "x": [
          -98.620166
         ],
         "xaxis": "x",
         "y": [
          29.515089999999997
         ],
         "yaxis": "y"
        },
        {
         "hovertemplate": "Monitor ID=480290052<br>Long=%{x}<br>Lat=%{y}<br>Ozone Concentration (ppb)=%{text}<extra></extra>",
         "legendgroup": "480290052",
         "marker": {
          "color": "#FFA15A",
          "symbol": "circle"
         },
         "mode": "markers+text",
         "name": "480290052",
         "orientation": "v",
         "showlegend": true,
         "text": [
          73
         ],
         "textposition": "top right",
         "type": "scatter",
         "x": [
          -98.56493599999999
         ],
         "xaxis": "x",
         "y": [
          29.632057999999997
         ],
         "yaxis": "y"
        },
        {
         "hovertemplate": "Monitor ID=480290059<br>Long=%{x}<br>Lat=%{y}<br>Ozone Concentration (ppb)=%{text}<extra></extra>",
         "legendgroup": "480290059",
         "marker": {
          "color": "#19d3f3",
          "symbol": "circle"
         },
         "mode": "markers+text",
         "name": "480290059",
         "orientation": "v",
         "showlegend": true,
         "text": [
          65
         ],
         "textposition": "top right",
         "type": "scatter",
         "x": [
          -98.311692
         ],
         "xaxis": "x",
         "y": [
          29.275381
         ],
         "yaxis": "y"
        },
        {
         "hovertemplate": "Monitor ID=480391004<br>Long=%{x}<br>Lat=%{y}<br>Ozone Concentration (ppb)=%{text}<extra></extra>",
         "legendgroup": "480391004",
         "marker": {
          "color": "#FF6692",
          "symbol": "circle"
         },
         "mode": "markers+text",
         "name": "480391004",
         "orientation": "v",
         "showlegend": true,
         "text": [
          75
         ],
         "textposition": "top right",
         "type": "scatter",
         "x": [
          -95.39250899999999
         ],
         "xaxis": "x",
         "y": [
          29.520443
         ],
         "yaxis": "y"
        },
        {
         "hovertemplate": "Monitor ID=480391016<br>Long=%{x}<br>Lat=%{y}<br>Ozone Concentration (ppb)=%{text}<extra></extra>",
         "legendgroup": "480391016",
         "marker": {
          "color": "#B6E880",
          "symbol": "circle"
         },
         "mode": "markers+text",
         "name": "480391016",
         "orientation": "v",
         "showlegend": true,
         "text": [
          65
         ],
         "textposition": "top right",
         "type": "scatter",
         "x": [
          -95.472946
         ],
         "xaxis": "x",
         "y": [
          29.043758999999998
         ],
         "yaxis": "y"
        },
        {
         "hovertemplate": "Monitor ID=480430101<br>Long=%{x}<br>Lat=%{y}<br>Ozone Concentration (ppb)=%{text}<extra></extra>",
         "legendgroup": "480430101",
         "marker": {
          "color": "#FF97FF",
          "symbol": "circle"
         },
         "mode": "markers+text",
         "name": "480430101",
         "orientation": "v",
         "showlegend": true,
         "text": [
          61
         ],
         "textposition": "top right",
         "type": "scatter",
         "x": [
          -103.17781
         ],
         "xaxis": "x",
         "y": [
          29.30265
         ],
         "yaxis": "y"
        },
        {
         "hovertemplate": "Monitor ID=480611023<br>Long=%{x}<br>Lat=%{y}<br>Ozone Concentration (ppb)=%{text}<extra></extra>",
         "legendgroup": "480611023",
         "marker": {
          "color": "#FECB52",
          "symbol": "circle"
         },
         "mode": "markers+text",
         "name": "480611023",
         "orientation": "v",
         "showlegend": true,
         "text": [
          56
         ],
         "textposition": "top right",
         "type": "scatter",
         "x": [
          -97.712684
         ],
         "xaxis": "x",
         "y": [
          26.200335
         ],
         "yaxis": "y"
        },
        {
         "hovertemplate": "Monitor ID=480850005<br>Long=%{x}<br>Lat=%{y}<br>Ozone Concentration (ppb)=%{text}<extra></extra>",
         "legendgroup": "480850005",
         "marker": {
          "color": "#636efa",
          "symbol": "circle"
         },
         "mode": "markers+text",
         "name": "480850005",
         "orientation": "v",
         "showlegend": true,
         "text": [
          75
         ],
         "textposition": "top right",
         "type": "scatter",
         "x": [
          -96.786419
         ],
         "xaxis": "x",
         "y": [
          33.132400000000004
         ],
         "yaxis": "y"
        },
        {
         "hovertemplate": "Monitor ID=481130069<br>Long=%{x}<br>Lat=%{y}<br>Ozone Concentration (ppb)=%{text}<extra></extra>",
         "legendgroup": "481130069",
         "marker": {
          "color": "#EF553B",
          "symbol": "circle"
         },
         "mode": "markers+text",
         "name": "481130069",
         "orientation": "v",
         "showlegend": true,
         "text": [
          67
         ],
         "textposition": "top right",
         "type": "scatter",
         "x": [
          -96.860117
         ],
         "xaxis": "x",
         "y": [
          32.820060999999995
         ],
         "yaxis": "y"
        },
        {
         "hovertemplate": "Monitor ID=481130075<br>Long=%{x}<br>Lat=%{y}<br>Ozone Concentration (ppb)=%{text}<extra></extra>",
         "legendgroup": "481130075",
         "marker": {
          "color": "#00cc96",
          "symbol": "circle"
         },
         "mode": "markers+text",
         "name": "481130075",
         "orientation": "v",
         "showlegend": true,
         "text": [
          71
         ],
         "textposition": "top right",
         "type": "scatter",
         "x": [
          -96.808498
         ],
         "xaxis": "x",
         "y": [
          32.919205999999996
         ],
         "yaxis": "y"
        },
        {
         "hovertemplate": "Monitor ID=481130087<br>Long=%{x}<br>Lat=%{y}<br>Ozone Concentration (ppb)=%{text}<extra></extra>",
         "legendgroup": "481130087",
         "marker": {
          "color": "#ab63fa",
          "symbol": "circle"
         },
         "mode": "markers+text",
         "name": "481130087",
         "orientation": "v",
         "showlegend": true,
         "text": [
          68
         ],
         "textposition": "top right",
         "type": "scatter",
         "x": [
          -96.87205999999999
         ],
         "xaxis": "x",
         "y": [
          32.676451
         ],
         "yaxis": "y"
        },
        {
         "hovertemplate": "Monitor ID=481210034<br>Long=%{x}<br>Lat=%{y}<br>Ozone Concentration (ppb)=%{text}<extra></extra>",
         "legendgroup": "481210034",
         "marker": {
          "color": "#FFA15A",
          "symbol": "circle"
         },
         "mode": "markers+text",
         "name": "481210034",
         "orientation": "v",
         "showlegend": true,
         "text": [
          74
         ],
         "textposition": "top right",
         "type": "scatter",
         "x": [
          -97.19628399999999
         ],
         "xaxis": "x",
         "y": [
          33.219069
         ],
         "yaxis": "y"
        },
        {
         "hovertemplate": "Monitor ID=481211032<br>Long=%{x}<br>Lat=%{y}<br>Ozone Concentration (ppb)=%{text}<extra></extra>",
         "legendgroup": "481211032",
         "marker": {
          "color": "#19d3f3",
          "symbol": "circle"
         },
         "mode": "markers+text",
         "name": "481211032",
         "orientation": "v",
         "showlegend": true,
         "text": [
          76
         ],
         "textposition": "top right",
         "type": "scatter",
         "x": [
          -96.94458999999999
         ],
         "xaxis": "x",
         "y": [
          33.410648
         ],
         "yaxis": "y"
        },
        {
         "hovertemplate": "Monitor ID=481390016<br>Long=%{x}<br>Lat=%{y}<br>Ozone Concentration (ppb)=%{text}<extra></extra>",
         "legendgroup": "481390016",
         "marker": {
          "color": "#FF6692",
          "symbol": "circle"
         },
         "mode": "markers+text",
         "name": "481390016",
         "orientation": "v",
         "showlegend": true,
         "text": [
          62
         ],
         "textposition": "top right",
         "type": "scatter",
         "x": [
          -97.026899
         ],
         "xaxis": "x",
         "y": [
          32.482082999999996
         ],
         "yaxis": "y"
        },
        {
         "hovertemplate": "Monitor ID=481391044<br>Long=%{x}<br>Lat=%{y}<br>Ozone Concentration (ppb)=%{text}<extra></extra>",
         "legendgroup": "481391044",
         "marker": {
          "color": "#B6E880",
          "symbol": "circle"
         },
         "mode": "markers+text",
         "name": "481391044",
         "orientation": "v",
         "showlegend": true,
         "text": [
          61
         ],
         "textposition": "top right",
         "type": "scatter",
         "x": [
          -96.870189
         ],
         "xaxis": "x",
         "y": [
          32.175416999999996
         ],
         "yaxis": "y"
        },
        {
         "hovertemplate": "Monitor ID=481410029<br>Long=%{x}<br>Lat=%{y}<br>Ozone Concentration (ppb)=%{text}<extra></extra>",
         "legendgroup": "481410029",
         "marker": {
          "color": "#FF97FF",
          "symbol": "circle"
         },
         "mode": "markers+text",
         "name": "481410029",
         "orientation": "v",
         "showlegend": true,
         "text": [
          67
         ],
         "textposition": "top right",
         "type": "scatter",
         "x": [
          -106.323578
         ],
         "xaxis": "x",
         "y": [
          31.785769
         ],
         "yaxis": "y"
        },
        {
         "hovertemplate": "Monitor ID=481410044<br>Long=%{x}<br>Lat=%{y}<br>Ozone Concentration (ppb)=%{text}<extra></extra>",
         "legendgroup": "481410044",
         "marker": {
          "color": "#FECB52",
          "symbol": "circle"
         },
         "mode": "markers+text",
         "name": "481410044",
         "orientation": "v",
         "showlegend": true,
         "text": [
          71
         ],
         "textposition": "top right",
         "type": "scatter",
         "x": [
          -106.455227
         ],
         "xaxis": "x",
         "y": [
          31.765684999999998
         ],
         "yaxis": "y"
        },
        {
         "hovertemplate": "Monitor ID=481410057<br>Long=%{x}<br>Lat=%{y}<br>Ozone Concentration (ppb)=%{text}<extra></extra>",
         "legendgroup": "481410057",
         "marker": {
          "color": "#636efa",
          "symbol": "circle"
         },
         "mode": "markers+text",
         "name": "481410057",
         "orientation": "v",
         "showlegend": true,
         "text": [
          70
         ],
         "textposition": "top right",
         "type": "scatter",
         "x": [
          -106.28800000000001
         ],
         "xaxis": "x",
         "y": [
          31.6675
         ],
         "yaxis": "y"
        },
        {
         "hovertemplate": "Monitor ID=481410058<br>Long=%{x}<br>Lat=%{y}<br>Ozone Concentration (ppb)=%{text}<extra></extra>",
         "legendgroup": "481410058",
         "marker": {
          "color": "#EF553B",
          "symbol": "circle"
         },
         "mode": "markers+text",
         "name": "481410058",
         "orientation": "v",
         "showlegend": true,
         "text": [
          70
         ],
         "textposition": "top right",
         "type": "scatter",
         "x": [
          -106.425827
         ],
         "xaxis": "x",
         "y": [
          31.893912999999998
         ],
         "yaxis": "y"
        },
        {
         "hovertemplate": "Monitor ID=481671034<br>Long=%{x}<br>Lat=%{y}<br>Ozone Concentration (ppb)=%{text}<extra></extra>",
         "legendgroup": "481671034",
         "marker": {
          "color": "#00cc96",
          "symbol": "circle"
         },
         "mode": "markers+text",
         "name": "481671034",
         "orientation": "v",
         "showlegend": true,
         "text": [
          72
         ],
         "textposition": "top right",
         "type": "scatter",
         "x": [
          -94.861289
         ],
         "xaxis": "x",
         "y": [
          29.254474
         ],
         "yaxis": "y"
        },
        {
         "hovertemplate": "Monitor ID=481830001<br>Long=%{x}<br>Lat=%{y}<br>Ozone Concentration (ppb)=%{text}<extra></extra>",
         "legendgroup": "481830001",
         "marker": {
          "color": "#ab63fa",
          "symbol": "circle"
         },
         "mode": "markers+text",
         "name": "481830001",
         "orientation": "v",
         "showlegend": true,
         "text": [
          62
         ],
         "textposition": "top right",
         "type": "scatter",
         "x": [
          -94.71181299999999
         ],
         "xaxis": "x",
         "y": [
          32.378696
         ],
         "yaxis": "y"
        },
        {
         "hovertemplate": "Monitor ID=482010024<br>Long=%{x}<br>Lat=%{y}<br>Ozone Concentration (ppb)=%{text}<extra></extra>",
         "legendgroup": "482010024",
         "marker": {
          "color": "#FFA15A",
          "symbol": "circle"
         },
         "mode": "markers+text",
         "name": "482010024",
         "orientation": "v",
         "showlegend": true,
         "text": [
          74
         ],
         "textposition": "top right",
         "type": "scatter",
         "x": [
          -95.326137
         ],
         "xaxis": "x",
         "y": [
          29.901035999999998
         ],
         "yaxis": "y"
        },
        {
         "hovertemplate": "Monitor ID=482010026<br>Long=%{x}<br>Lat=%{y}<br>Ozone Concentration (ppb)=%{text}<extra></extra>",
         "legendgroup": "482010026",
         "marker": {
          "color": "#19d3f3",
          "symbol": "circle"
         },
         "mode": "markers+text",
         "name": "482010026",
         "orientation": "v",
         "showlegend": true,
         "text": [
          65
         ],
         "textposition": "top right",
         "type": "scatter",
         "x": [
          -95.125495
         ],
         "xaxis": "x",
         "y": [
          29.802706999999998
         ],
         "yaxis": "y"
        },
        {
         "hovertemplate": "Monitor ID=482010029<br>Long=%{x}<br>Lat=%{y}<br>Ozone Concentration (ppb)=%{text}<extra></extra>",
         "legendgroup": "482010029",
         "marker": {
          "color": "#FF6692",
          "symbol": "circle"
         },
         "mode": "markers+text",
         "name": "482010029",
         "orientation": "v",
         "showlegend": true,
         "text": [
          71
         ],
         "textposition": "top right",
         "type": "scatter",
         "x": [
          -95.673951
         ],
         "xaxis": "x",
         "y": [
          30.039524
         ],
         "yaxis": "y"
        },
        {
         "hovertemplate": "Monitor ID=482010046<br>Long=%{x}<br>Lat=%{y}<br>Ozone Concentration (ppb)=%{text}<extra></extra>",
         "legendgroup": "482010046",
         "marker": {
          "color": "#B6E880",
          "symbol": "circle"
         },
         "mode": "markers+text",
         "name": "482010046",
         "orientation": "v",
         "showlegend": true,
         "text": [
          64
         ],
         "textposition": "top right",
         "type": "scatter",
         "x": [
          -95.28409599999999
         ],
         "xaxis": "x",
         "y": [
          29.828086
         ],
         "yaxis": "y"
        },
        {
         "hovertemplate": "Monitor ID=482010047<br>Long=%{x}<br>Lat=%{y}<br>Ozone Concentration (ppb)=%{text}<extra></extra>",
         "legendgroup": "482010047",
         "marker": {
          "color": "#FF97FF",
          "symbol": "circle"
         },
         "mode": "markers+text",
         "name": "482010047",
         "orientation": "v",
         "showlegend": true,
         "text": [
          71
         ],
         "textposition": "top right",
         "type": "scatter",
         "x": [
          -95.489167
         ],
         "xaxis": "x",
         "y": [
          29.834166999999997
         ],
         "yaxis": "y"
        },
        {
         "hovertemplate": "Monitor ID=482010051<br>Long=%{x}<br>Lat=%{y}<br>Ozone Concentration (ppb)=%{text}<extra></extra>",
         "legendgroup": "482010051",
         "marker": {
          "color": "#FECB52",
          "symbol": "circle"
         },
         "mode": "markers+text",
         "name": "482010051",
         "orientation": "v",
         "showlegend": true,
         "text": [
          74
         ],
         "textposition": "top right",
         "type": "scatter",
         "x": [
          -95.474167
         ],
         "xaxis": "x",
         "y": [
          29.623889
         ],
         "yaxis": "y"
        },
        {
         "hovertemplate": "Monitor ID=482010055<br>Long=%{x}<br>Lat=%{y}<br>Ozone Concentration (ppb)=%{text}<extra></extra>",
         "legendgroup": "482010055",
         "marker": {
          "color": "#636efa",
          "symbol": "circle"
         },
         "mode": "markers+text",
         "name": "482010055",
         "orientation": "v",
         "showlegend": true,
         "text": [
          77
         ],
         "textposition": "top right",
         "type": "scatter",
         "x": [
          -95.499219
         ],
         "xaxis": "x",
         "y": [
          29.695729
         ],
         "yaxis": "y"
        },
        {
         "hovertemplate": "Monitor ID=482010062<br>Long=%{x}<br>Lat=%{y}<br>Ozone Concentration (ppb)=%{text}<extra></extra>",
         "legendgroup": "482010062",
         "marker": {
          "color": "#EF553B",
          "symbol": "circle"
         },
         "mode": "markers+text",
         "name": "482010062",
         "orientation": "v",
         "showlegend": true,
         "text": [
          67
         ],
         "textposition": "top right",
         "type": "scatter",
         "x": [
          -95.26722199999999
         ],
         "xaxis": "x",
         "y": [
          29.625556
         ],
         "yaxis": "y"
        },
        {
         "hovertemplate": "Monitor ID=482010066<br>Long=%{x}<br>Lat=%{y}<br>Ozone Concentration (ppb)=%{text}<extra></extra>",
         "legendgroup": "482010066",
         "marker": {
          "color": "#00cc96",
          "symbol": "circle"
         },
         "mode": "markers+text",
         "name": "482010066",
         "orientation": "v",
         "showlegend": true,
         "text": [
          70
         ],
         "textposition": "top right",
         "type": "scatter",
         "x": [
          -95.63583299999999
         ],
         "xaxis": "x",
         "y": [
          29.723333
         ],
         "yaxis": "y"
        },
        {
         "hovertemplate": "Monitor ID=482010416<br>Long=%{x}<br>Lat=%{y}<br>Ozone Concentration (ppb)=%{text}<extra></extra>",
         "legendgroup": "482010416",
         "marker": {
          "color": "#ab63fa",
          "symbol": "circle"
         },
         "mode": "markers+text",
         "name": "482010416",
         "orientation": "v",
         "showlegend": true,
         "text": [
          73
         ],
         "textposition": "top right",
         "type": "scatter",
         "x": [
          -95.294722
         ],
         "xaxis": "x",
         "y": [
          29.686389
         ],
         "yaxis": "y"
        },
        {
         "hovertemplate": "Monitor ID=482011015<br>Long=%{x}<br>Lat=%{y}<br>Ozone Concentration (ppb)=%{text}<extra></extra>",
         "legendgroup": "482011015",
         "marker": {
          "color": "#FFA15A",
          "symbol": "circle"
         },
         "mode": "markers+text",
         "name": "482011015",
         "orientation": "v",
         "showlegend": true,
         "text": [
          64
         ],
         "textposition": "top right",
         "type": "scatter",
         "x": [
          -95.079444
         ],
         "xaxis": "x",
         "y": [
          29.758889
         ],
         "yaxis": "y"
        },
        {
         "hovertemplate": "Monitor ID=482011017<br>Long=%{x}<br>Lat=%{y}<br>Ozone Concentration (ppb)=%{text}<extra></extra>",
         "legendgroup": "482011017",
         "marker": {
          "color": "#19d3f3",
          "symbol": "circle"
         },
         "mode": "markers+text",
         "name": "482011017",
         "orientation": "v",
         "showlegend": true,
         "text": [
          68
         ],
         "textposition": "top right",
         "type": "scatter",
         "x": [
          -94.983786
         ],
         "xaxis": "x",
         "y": [
          29.823318999999998
         ],
         "yaxis": "y"
        },
        {
         "hovertemplate": "Monitor ID=482011034<br>Long=%{x}<br>Lat=%{y}<br>Ozone Concentration (ppb)=%{text}<extra></extra>",
         "legendgroup": "482011034",
         "marker": {
          "color": "#FF6692",
          "symbol": "circle"
         },
         "mode": "markers+text",
         "name": "482011034",
         "orientation": "v",
         "showlegend": true,
         "text": [
          71
         ],
         "textposition": "top right",
         "type": "scatter",
         "x": [
          -95.220582
         ],
         "xaxis": "x",
         "y": [
          29.767996999999998
         ],
         "yaxis": "y"
        },
        {
         "hovertemplate": "Monitor ID=482011035<br>Long=%{x}<br>Lat=%{y}<br>Ozone Concentration (ppb)=%{text}<extra></extra>",
         "legendgroup": "482011035",
         "marker": {
          "color": "#B6E880",
          "symbol": "circle"
         },
         "mode": "markers+text",
         "name": "482011035",
         "orientation": "v",
         "showlegend": true,
         "text": [
          71
         ],
         "textposition": "top right",
         "type": "scatter",
         "x": [
          -95.257593
         ],
         "xaxis": "x",
         "y": [
          29.733725999999997
         ],
         "yaxis": "y"
        },
        {
         "hovertemplate": "Monitor ID=482011039<br>Long=%{x}<br>Lat=%{y}<br>Ozone Concentration (ppb)=%{text}<extra></extra>",
         "legendgroup": "482011039",
         "marker": {
          "color": "#FF97FF",
          "symbol": "circle"
         },
         "mode": "markers+text",
         "name": "482011039",
         "orientation": "v",
         "showlegend": true,
         "text": [
          74
         ],
         "textposition": "top right",
         "type": "scatter",
         "x": [
          -95.128508
         ],
         "xaxis": "x",
         "y": [
          29.670025
         ],
         "yaxis": "y"
        },
        {
         "hovertemplate": "Monitor ID=482011050<br>Long=%{x}<br>Lat=%{y}<br>Ozone Concentration (ppb)=%{text}<extra></extra>",
         "legendgroup": "482011050",
         "marker": {
          "color": "#FECB52",
          "symbol": "circle"
         },
         "mode": "markers+text",
         "name": "482011050",
         "orientation": "v",
         "showlegend": true,
         "text": [
          62
         ],
         "textposition": "top right",
         "type": "scatter",
         "x": [
          -95.01554399999999
         ],
         "xaxis": "x",
         "y": [
          29.583046999999997
         ],
         "yaxis": "y"
        },
        {
         "hovertemplate": "Monitor ID=482030002<br>Long=%{x}<br>Lat=%{y}<br>Ozone Concentration (ppb)=%{text}<extra></extra>",
         "legendgroup": "482030002",
         "marker": {
          "color": "#636efa",
          "symbol": "circle"
         },
         "mode": "markers+text",
         "name": "482030002",
         "orientation": "v",
         "showlegend": true,
         "text": [
          59
         ],
         "textposition": "top right",
         "type": "scatter",
         "x": [
          -94.167468
         ],
         "xaxis": "x",
         "y": [
          32.669001
         ],
         "yaxis": "y"
        },
        {
         "hovertemplate": "Monitor ID=482150043<br>Long=%{x}<br>Lat=%{y}<br>Ozone Concentration (ppb)=%{text}<extra></extra>",
         "legendgroup": "482150043",
         "marker": {
          "color": "#EF553B",
          "symbol": "circle"
         },
         "mode": "markers+text",
         "name": "482150043",
         "orientation": "v",
         "showlegend": true,
         "text": [
          56
         ],
         "textposition": "top right",
         "type": "scatter",
         "x": [
          -98.291069
         ],
         "xaxis": "x",
         "y": [
          26.22621
         ],
         "yaxis": "y"
        },
        {
         "hovertemplate": "Monitor ID=482210001<br>Long=%{x}<br>Lat=%{y}<br>Ozone Concentration (ppb)=%{text}<extra></extra>",
         "legendgroup": "482210001",
         "marker": {
          "color": "#00cc96",
          "symbol": "circle"
         },
         "mode": "markers+text",
         "name": "482210001",
         "orientation": "v",
         "showlegend": true,
         "text": [
          64
         ],
         "textposition": "top right",
         "type": "scatter",
         "x": [
          -97.803529
         ],
         "xaxis": "x",
         "y": [
          32.442304
         ],
         "yaxis": "y"
        },
        {
         "hovertemplate": "Monitor ID=482311006<br>Long=%{x}<br>Lat=%{y}<br>Ozone Concentration (ppb)=%{text}<extra></extra>",
         "legendgroup": "482311006",
         "marker": {
          "color": "#ab63fa",
          "symbol": "circle"
         },
         "mode": "markers+text",
         "name": "482311006",
         "orientation": "v",
         "showlegend": true,
         "text": [
          62
         ],
         "textposition": "top right",
         "type": "scatter",
         "x": [
          -96.115572
         ],
         "xaxis": "x",
         "y": [
          33.153088
         ],
         "yaxis": "y"
        },
        {
         "hovertemplate": "Monitor ID=482450009<br>Long=%{x}<br>Lat=%{y}<br>Ozone Concentration (ppb)=%{text}<extra></extra>",
         "legendgroup": "482450009",
         "marker": {
          "color": "#FFA15A",
          "symbol": "circle"
         },
         "mode": "markers+text",
         "name": "482450009",
         "orientation": "v",
         "showlegend": true,
         "text": [
          65
         ],
         "textposition": "top right",
         "type": "scatter",
         "x": [
          -94.071061
         ],
         "xaxis": "x",
         "y": [
          30.036421999999998
         ],
         "yaxis": "y"
        },
        {
         "hovertemplate": "Monitor ID=482450011<br>Long=%{x}<br>Lat=%{y}<br>Ozone Concentration (ppb)=%{text}<extra></extra>",
         "legendgroup": "482450011",
         "marker": {
          "color": "#19d3f3",
          "symbol": "circle"
         },
         "mode": "markers+text",
         "name": "482450011",
         "orientation": "v",
         "showlegend": true,
         "text": [
          62
         ],
         "textposition": "top right",
         "type": "scatter",
         "x": [
          -93.991084
         ],
         "xaxis": "x",
         "y": [
          29.897516
         ],
         "yaxis": "y"
        },
        {
         "hovertemplate": "Monitor ID=482450022<br>Long=%{x}<br>Lat=%{y}<br>Ozone Concentration (ppb)=%{text}<extra></extra>",
         "legendgroup": "482450022",
         "marker": {
          "color": "#FF6692",
          "symbol": "circle"
         },
         "mode": "markers+text",
         "name": "482450022",
         "orientation": "v",
         "showlegend": true,
         "text": [
          63
         ],
         "textposition": "top right",
         "type": "scatter",
         "x": [
          -94.317802
         ],
         "xaxis": "x",
         "y": [
          29.863957
         ],
         "yaxis": "y"
        },
        {
         "hovertemplate": "Monitor ID=482450102<br>Long=%{x}<br>Lat=%{y}<br>Ozone Concentration (ppb)=%{text}<extra></extra>",
         "legendgroup": "482450102",
         "marker": {
          "color": "#B6E880",
          "symbol": "circle"
         },
         "mode": "markers+text",
         "name": "482450102",
         "orientation": "v",
         "showlegend": true,
         "text": [
          66
         ],
         "textposition": "top right",
         "type": "scatter",
         "x": [
          -94.00055599999999
         ],
         "xaxis": "x",
         "y": [
          29.942500000000003
         ],
         "yaxis": "y"
        },
        {
         "hovertemplate": "Monitor ID=482451035<br>Long=%{x}<br>Lat=%{y}<br>Ozone Concentration (ppb)=%{text}<extra></extra>",
         "legendgroup": "482451035",
         "marker": {
          "color": "#FF97FF",
          "symbol": "circle"
         },
         "mode": "markers+text",
         "name": "482451035",
         "orientation": "v",
         "showlegend": true,
         "text": [
          61
         ],
         "textposition": "top right",
         "type": "scatter",
         "x": [
          -94.01087199999999
         ],
         "xaxis": "x",
         "y": [
          29.978925999999998
         ],
         "yaxis": "y"
        },
        {
         "hovertemplate": "Monitor ID=482510003<br>Long=%{x}<br>Lat=%{y}<br>Ozone Concentration (ppb)=%{text}<extra></extra>",
         "legendgroup": "482510003",
         "marker": {
          "color": "#FECB52",
          "symbol": "circle"
         },
         "mode": "markers+text",
         "name": "482510003",
         "orientation": "v",
         "showlegend": true,
         "text": [
          71
         ],
         "textposition": "top right",
         "type": "scatter",
         "x": [
          -97.436742
         ],
         "xaxis": "x",
         "y": [
          32.353595
         ],
         "yaxis": "y"
        },
        {
         "hovertemplate": "Monitor ID=482570005<br>Long=%{x}<br>Lat=%{y}<br>Ozone Concentration (ppb)=%{text}<extra></extra>",
         "legendgroup": "482570005",
         "marker": {
          "color": "#636efa",
          "symbol": "circle"
         },
         "mode": "markers+text",
         "name": "482570005",
         "orientation": "v",
         "showlegend": true,
         "text": [
          64
         ],
         "textposition": "top right",
         "type": "scatter",
         "x": [
          -96.31768699999999
         ],
         "xaxis": "x",
         "y": [
          32.564968
         ],
         "yaxis": "y"
        },
        {
         "hovertemplate": "Monitor ID=483091037<br>Long=%{x}<br>Lat=%{y}<br>Ozone Concentration (ppb)=%{text}<extra></extra>",
         "legendgroup": "483091037",
         "marker": {
          "color": "#EF553B",
          "symbol": "circle"
         },
         "mode": "markers+text",
         "name": "483091037",
         "orientation": "v",
         "showlegend": true,
         "text": [
          64
         ],
         "textposition": "top right",
         "type": "scatter",
         "x": [
          -97.07070399999999
         ],
         "xaxis": "x",
         "y": [
          31.653086
         ],
         "yaxis": "y"
        },
        {
         "hovertemplate": "Monitor ID=483390078<br>Long=%{x}<br>Lat=%{y}<br>Ozone Concentration (ppb)=%{text}<extra></extra>",
         "legendgroup": "483390078",
         "marker": {
          "color": "#00cc96",
          "symbol": "circle"
         },
         "mode": "markers+text",
         "name": "483390078",
         "orientation": "v",
         "showlegend": true,
         "text": [
          73
         ],
         "textposition": "top right",
         "type": "scatter",
         "x": [
          -95.425128
         ],
         "xaxis": "x",
         "y": [
          30.350302
         ],
         "yaxis": "y"
        },
        {
         "hovertemplate": "Monitor ID=483491051<br>Long=%{x}<br>Lat=%{y}<br>Ozone Concentration (ppb)=%{text}<extra></extra>",
         "legendgroup": "483491051",
         "marker": {
          "color": "#ab63fa",
          "symbol": "circle"
         },
         "mode": "markers+text",
         "name": "483491051",
         "orientation": "v",
         "showlegend": true,
         "text": [
          63
         ],
         "textposition": "top right",
         "type": "scatter",
         "x": [
          -96.399141
         ],
         "xaxis": "x",
         "y": [
          32.031934
         ],
         "yaxis": "y"
        },
        {
         "hovertemplate": "Monitor ID=483550025<br>Long=%{x}<br>Lat=%{y}<br>Ozone Concentration (ppb)=%{text}<extra></extra>",
         "legendgroup": "483550025",
         "marker": {
          "color": "#FFA15A",
          "symbol": "circle"
         },
         "mode": "markers+text",
         "name": "483550025",
         "orientation": "v",
         "showlegend": true,
         "text": [
          62
         ],
         "textposition": "top right",
         "type": "scatter",
         "x": [
          -97.43426199999999
         ],
         "xaxis": "x",
         "y": [
          27.76534
         ],
         "yaxis": "y"
        },
        {
         "hovertemplate": "Monitor ID=483550026<br>Long=%{x}<br>Lat=%{y}<br>Ozone Concentration (ppb)=%{text}<extra></extra>",
         "legendgroup": "483550026",
         "marker": {
          "color": "#19d3f3",
          "symbol": "circle"
         },
         "mode": "markers+text",
         "name": "483550026",
         "orientation": "v",
         "showlegend": true,
         "text": [
          62
         ],
         "textposition": "top right",
         "type": "scatter",
         "x": [
          -97.555387
         ],
         "xaxis": "x",
         "y": [
          27.832413
         ],
         "yaxis": "y"
        },
        {
         "hovertemplate": "Monitor ID=483611001<br>Long=%{x}<br>Lat=%{y}<br>Ozone Concentration (ppb)=%{text}<extra></extra>",
         "legendgroup": "483611001",
         "marker": {
          "color": "#FF6692",
          "symbol": "circle"
         },
         "mode": "markers+text",
         "name": "483611001",
         "orientation": "v",
         "showlegend": true,
         "text": [
          62
         ],
         "textposition": "top right",
         "type": "scatter",
         "x": [
          -93.761341
         ],
         "xaxis": "x",
         "y": [
          30.085262999999998
         ],
         "yaxis": "y"
        },
        {
         "hovertemplate": "Monitor ID=483670081<br>Long=%{x}<br>Lat=%{y}<br>Ozone Concentration (ppb)=%{text}<extra></extra>",
         "legendgroup": "483670081",
         "marker": {
          "color": "#B6E880",
          "symbol": "circle"
         },
         "mode": "markers+text",
         "name": "483670081",
         "orientation": "v",
         "showlegend": true,
         "text": [
          67
         ],
         "textposition": "top right",
         "type": "scatter",
         "x": [
          -97.905931
         ],
         "xaxis": "x",
         "y": [
          32.868773
         ],
         "yaxis": "y"
        },
        {
         "hovertemplate": "Monitor ID=483739991<br>Long=%{x}<br>Lat=%{y}<br>Ozone Concentration (ppb)=%{text}<extra></extra>",
         "legendgroup": "483739991",
         "marker": {
          "color": "#FF97FF",
          "symbol": "circle"
         },
         "mode": "markers+text",
         "name": "483739991",
         "orientation": "v",
         "showlegend": true,
         "text": [
          57
         ],
         "textposition": "top right",
         "type": "scatter",
         "x": [
          -94.6742
         ],
         "xaxis": "x",
         "y": [
          30.701700000000002
         ],
         "yaxis": "y"
        },
        {
         "hovertemplate": "Monitor ID=483819991<br>Long=%{x}<br>Lat=%{y}<br>Ozone Concentration (ppb)=%{text}<extra></extra>",
         "legendgroup": "483819991",
         "marker": {
          "color": "#FECB52",
          "symbol": "circle"
         },
         "mode": "markers+text",
         "name": "483819991",
         "orientation": "v",
         "showlegend": true,
         "text": [
          66
         ],
         "textposition": "top right",
         "type": "scatter",
         "x": [
          -101.6649
         ],
         "xaxis": "x",
         "y": [
          34.8803
         ],
         "yaxis": "y"
        },
        {
         "hovertemplate": "Monitor ID=483970001<br>Long=%{x}<br>Lat=%{y}<br>Ozone Concentration (ppb)=%{text}<extra></extra>",
         "legendgroup": "483970001",
         "marker": {
          "color": "#636efa",
          "symbol": "circle"
         },
         "mode": "markers+text",
         "name": "483970001",
         "orientation": "v",
         "showlegend": true,
         "text": [
          63
         ],
         "textposition": "top right",
         "type": "scatter",
         "x": [
          -96.459211
         ],
         "xaxis": "x",
         "y": [
          32.936523
         ],
         "yaxis": "y"
        },
        {
         "hovertemplate": "Monitor ID=484230007<br>Long=%{x}<br>Lat=%{y}<br>Ozone Concentration (ppb)=%{text}<extra></extra>",
         "legendgroup": "484230007",
         "marker": {
          "color": "#EF553B",
          "symbol": "circle"
         },
         "mode": "markers+text",
         "name": "484230007",
         "orientation": "v",
         "showlegend": true,
         "text": [
          64
         ],
         "textposition": "top right",
         "type": "scatter",
         "x": [
          -95.41575399999999
         ],
         "xaxis": "x",
         "y": [
          32.344027
         ],
         "yaxis": "y"
        },
        {
         "hovertemplate": "Monitor ID=484390075<br>Long=%{x}<br>Lat=%{y}<br>Ozone Concentration (ppb)=%{text}<extra></extra>",
         "legendgroup": "484390075",
         "marker": {
          "color": "#00cc96",
          "symbol": "circle"
         },
         "mode": "markers+text",
         "name": "484390075",
         "orientation": "v",
         "showlegend": true,
         "text": [
          75
         ],
         "textposition": "top right",
         "type": "scatter",
         "x": [
          -97.477175
         ],
         "xaxis": "x",
         "y": [
          32.987891
         ],
         "yaxis": "y"
        },
        {
         "hovertemplate": "Monitor ID=484391002<br>Long=%{x}<br>Lat=%{y}<br>Ozone Concentration (ppb)=%{text}<extra></extra>",
         "legendgroup": "484391002",
         "marker": {
          "color": "#ab63fa",
          "symbol": "circle"
         },
         "mode": "markers+text",
         "name": "484391002",
         "orientation": "v",
         "showlegend": true,
         "text": [
          72
         ],
         "textposition": "top right",
         "type": "scatter",
         "x": [
          -97.356529
         ],
         "xaxis": "x",
         "y": [
          32.80581
         ],
         "yaxis": "y"
        },
        {
         "hovertemplate": "Monitor ID=484392003<br>Long=%{x}<br>Lat=%{y}<br>Ozone Concentration (ppb)=%{text}<extra></extra>",
         "legendgroup": "484392003",
         "marker": {
          "color": "#FFA15A",
          "symbol": "circle"
         },
         "mode": "markers+text",
         "name": "484392003",
         "orientation": "v",
         "showlegend": true,
         "text": [
          72
         ],
         "textposition": "top right",
         "type": "scatter",
         "x": [
          -97.282099
         ],
         "xaxis": "x",
         "y": [
          32.922492
         ],
         "yaxis": "y"
        },
        {
         "hovertemplate": "Monitor ID=484393009<br>Long=%{x}<br>Lat=%{y}<br>Ozone Concentration (ppb)=%{text}<extra></extra>",
         "legendgroup": "484393009",
         "marker": {
          "color": "#19d3f3",
          "symbol": "circle"
         },
         "mode": "markers+text",
         "name": "484393009",
         "orientation": "v",
         "showlegend": true,
         "text": [
          74
         ],
         "textposition": "top right",
         "type": "scatter",
         "x": [
          -97.063721
         ],
         "xaxis": "x",
         "y": [
          32.98426
         ],
         "yaxis": "y"
        },
        {
         "hovertemplate": "Monitor ID=484530020<br>Long=%{x}<br>Lat=%{y}<br>Ozone Concentration (ppb)=%{text}<extra></extra>",
         "legendgroup": "484530020",
         "marker": {
          "color": "#FF6692",
          "symbol": "circle"
         },
         "mode": "markers+text",
         "name": "484530020",
         "orientation": "v",
         "showlegend": true,
         "text": [
          63
         ],
         "textposition": "top right",
         "type": "scatter",
         "x": [
          -97.875084
         ],
         "xaxis": "x",
         "y": [
          30.483162999999998
         ],
         "yaxis": "y"
        },
        {
         "hovertemplate": "Monitor ID=484690003<br>Long=%{x}<br>Lat=%{y}<br>Ozone Concentration (ppb)=%{text}<extra></extra>",
         "legendgroup": "484690003",
         "marker": {
          "color": "#B6E880",
          "symbol": "circle"
         },
         "mode": "markers+text",
         "name": "484690003",
         "orientation": "v",
         "showlegend": true,
         "text": [
          61
         ],
         "textposition": "top right",
         "type": "scatter",
         "x": [
          -97.00552499999999
         ],
         "xaxis": "x",
         "y": [
          28.836214
         ],
         "yaxis": "y"
        }
       ],
       "layout": {
        "legend": {
         "title": {
          "text": "Monitor ID"
         },
         "tracegroupgap": 0
        },
        "template": {
         "data": {
          "bar": [
           {
            "error_x": {
             "color": "#2a3f5f"
            },
            "error_y": {
             "color": "#2a3f5f"
            },
            "marker": {
             "line": {
              "color": "#E5ECF6",
              "width": 0.5
             },
             "pattern": {
              "fillmode": "overlay",
              "size": 10,
              "solidity": 0.2
             }
            },
            "type": "bar"
           }
          ],
          "barpolar": [
           {
            "marker": {
             "line": {
              "color": "#E5ECF6",
              "width": 0.5
             },
             "pattern": {
              "fillmode": "overlay",
              "size": 10,
              "solidity": 0.2
             }
            },
            "type": "barpolar"
           }
          ],
          "carpet": [
           {
            "aaxis": {
             "endlinecolor": "#2a3f5f",
             "gridcolor": "white",
             "linecolor": "white",
             "minorgridcolor": "white",
             "startlinecolor": "#2a3f5f"
            },
            "baxis": {
             "endlinecolor": "#2a3f5f",
             "gridcolor": "white",
             "linecolor": "white",
             "minorgridcolor": "white",
             "startlinecolor": "#2a3f5f"
            },
            "type": "carpet"
           }
          ],
          "choropleth": [
           {
            "colorbar": {
             "outlinewidth": 0,
             "ticks": ""
            },
            "type": "choropleth"
           }
          ],
          "contour": [
           {
            "colorbar": {
             "outlinewidth": 0,
             "ticks": ""
            },
            "colorscale": [
             [
              0,
              "#0d0887"
             ],
             [
              0.1111111111111111,
              "#46039f"
             ],
             [
              0.2222222222222222,
              "#7201a8"
             ],
             [
              0.3333333333333333,
              "#9c179e"
             ],
             [
              0.4444444444444444,
              "#bd3786"
             ],
             [
              0.5555555555555556,
              "#d8576b"
             ],
             [
              0.6666666666666666,
              "#ed7953"
             ],
             [
              0.7777777777777778,
              "#fb9f3a"
             ],
             [
              0.8888888888888888,
              "#fdca26"
             ],
             [
              1,
              "#f0f921"
             ]
            ],
            "type": "contour"
           }
          ],
          "contourcarpet": [
           {
            "colorbar": {
             "outlinewidth": 0,
             "ticks": ""
            },
            "type": "contourcarpet"
           }
          ],
          "heatmap": [
           {
            "colorbar": {
             "outlinewidth": 0,
             "ticks": ""
            },
            "colorscale": [
             [
              0,
              "#0d0887"
             ],
             [
              0.1111111111111111,
              "#46039f"
             ],
             [
              0.2222222222222222,
              "#7201a8"
             ],
             [
              0.3333333333333333,
              "#9c179e"
             ],
             [
              0.4444444444444444,
              "#bd3786"
             ],
             [
              0.5555555555555556,
              "#d8576b"
             ],
             [
              0.6666666666666666,
              "#ed7953"
             ],
             [
              0.7777777777777778,
              "#fb9f3a"
             ],
             [
              0.8888888888888888,
              "#fdca26"
             ],
             [
              1,
              "#f0f921"
             ]
            ],
            "type": "heatmap"
           }
          ],
          "heatmapgl": [
           {
            "colorbar": {
             "outlinewidth": 0,
             "ticks": ""
            },
            "colorscale": [
             [
              0,
              "#0d0887"
             ],
             [
              0.1111111111111111,
              "#46039f"
             ],
             [
              0.2222222222222222,
              "#7201a8"
             ],
             [
              0.3333333333333333,
              "#9c179e"
             ],
             [
              0.4444444444444444,
              "#bd3786"
             ],
             [
              0.5555555555555556,
              "#d8576b"
             ],
             [
              0.6666666666666666,
              "#ed7953"
             ],
             [
              0.7777777777777778,
              "#fb9f3a"
             ],
             [
              0.8888888888888888,
              "#fdca26"
             ],
             [
              1,
              "#f0f921"
             ]
            ],
            "type": "heatmapgl"
           }
          ],
          "histogram": [
           {
            "marker": {
             "pattern": {
              "fillmode": "overlay",
              "size": 10,
              "solidity": 0.2
             }
            },
            "type": "histogram"
           }
          ],
          "histogram2d": [
           {
            "colorbar": {
             "outlinewidth": 0,
             "ticks": ""
            },
            "colorscale": [
             [
              0,
              "#0d0887"
             ],
             [
              0.1111111111111111,
              "#46039f"
             ],
             [
              0.2222222222222222,
              "#7201a8"
             ],
             [
              0.3333333333333333,
              "#9c179e"
             ],
             [
              0.4444444444444444,
              "#bd3786"
             ],
             [
              0.5555555555555556,
              "#d8576b"
             ],
             [
              0.6666666666666666,
              "#ed7953"
             ],
             [
              0.7777777777777778,
              "#fb9f3a"
             ],
             [
              0.8888888888888888,
              "#fdca26"
             ],
             [
              1,
              "#f0f921"
             ]
            ],
            "type": "histogram2d"
           }
          ],
          "histogram2dcontour": [
           {
            "colorbar": {
             "outlinewidth": 0,
             "ticks": ""
            },
            "colorscale": [
             [
              0,
              "#0d0887"
             ],
             [
              0.1111111111111111,
              "#46039f"
             ],
             [
              0.2222222222222222,
              "#7201a8"
             ],
             [
              0.3333333333333333,
              "#9c179e"
             ],
             [
              0.4444444444444444,
              "#bd3786"
             ],
             [
              0.5555555555555556,
              "#d8576b"
             ],
             [
              0.6666666666666666,
              "#ed7953"
             ],
             [
              0.7777777777777778,
              "#fb9f3a"
             ],
             [
              0.8888888888888888,
              "#fdca26"
             ],
             [
              1,
              "#f0f921"
             ]
            ],
            "type": "histogram2dcontour"
           }
          ],
          "mesh3d": [
           {
            "colorbar": {
             "outlinewidth": 0,
             "ticks": ""
            },
            "type": "mesh3d"
           }
          ],
          "parcoords": [
           {
            "line": {
             "colorbar": {
              "outlinewidth": 0,
              "ticks": ""
             }
            },
            "type": "parcoords"
           }
          ],
          "pie": [
           {
            "automargin": true,
            "type": "pie"
           }
          ],
          "scatter": [
           {
            "marker": {
             "colorbar": {
              "outlinewidth": 0,
              "ticks": ""
             }
            },
            "type": "scatter"
           }
          ],
          "scatter3d": [
           {
            "line": {
             "colorbar": {
              "outlinewidth": 0,
              "ticks": ""
             }
            },
            "marker": {
             "colorbar": {
              "outlinewidth": 0,
              "ticks": ""
             }
            },
            "type": "scatter3d"
           }
          ],
          "scattercarpet": [
           {
            "marker": {
             "colorbar": {
              "outlinewidth": 0,
              "ticks": ""
             }
            },
            "type": "scattercarpet"
           }
          ],
          "scattergeo": [
           {
            "marker": {
             "colorbar": {
              "outlinewidth": 0,
              "ticks": ""
             }
            },
            "type": "scattergeo"
           }
          ],
          "scattergl": [
           {
            "marker": {
             "colorbar": {
              "outlinewidth": 0,
              "ticks": ""
             }
            },
            "type": "scattergl"
           }
          ],
          "scattermapbox": [
           {
            "marker": {
             "colorbar": {
              "outlinewidth": 0,
              "ticks": ""
             }
            },
            "type": "scattermapbox"
           }
          ],
          "scatterpolar": [
           {
            "marker": {
             "colorbar": {
              "outlinewidth": 0,
              "ticks": ""
             }
            },
            "type": "scatterpolar"
           }
          ],
          "scatterpolargl": [
           {
            "marker": {
             "colorbar": {
              "outlinewidth": 0,
              "ticks": ""
             }
            },
            "type": "scatterpolargl"
           }
          ],
          "scatterternary": [
           {
            "marker": {
             "colorbar": {
              "outlinewidth": 0,
              "ticks": ""
             }
            },
            "type": "scatterternary"
           }
          ],
          "surface": [
           {
            "colorbar": {
             "outlinewidth": 0,
             "ticks": ""
            },
            "colorscale": [
             [
              0,
              "#0d0887"
             ],
             [
              0.1111111111111111,
              "#46039f"
             ],
             [
              0.2222222222222222,
              "#7201a8"
             ],
             [
              0.3333333333333333,
              "#9c179e"
             ],
             [
              0.4444444444444444,
              "#bd3786"
             ],
             [
              0.5555555555555556,
              "#d8576b"
             ],
             [
              0.6666666666666666,
              "#ed7953"
             ],
             [
              0.7777777777777778,
              "#fb9f3a"
             ],
             [
              0.8888888888888888,
              "#fdca26"
             ],
             [
              1,
              "#f0f921"
             ]
            ],
            "type": "surface"
           }
          ],
          "table": [
           {
            "cells": {
             "fill": {
              "color": "#EBF0F8"
             },
             "line": {
              "color": "white"
             }
            },
            "header": {
             "fill": {
              "color": "#C8D4E3"
             },
             "line": {
              "color": "white"
             }
            },
            "type": "table"
           }
          ]
         },
         "layout": {
          "annotationdefaults": {
           "arrowcolor": "#2a3f5f",
           "arrowhead": 0,
           "arrowwidth": 1
          },
          "autotypenumbers": "strict",
          "coloraxis": {
           "colorbar": {
            "outlinewidth": 0,
            "ticks": ""
           }
          },
          "colorscale": {
           "diverging": [
            [
             0,
             "#8e0152"
            ],
            [
             0.1,
             "#c51b7d"
            ],
            [
             0.2,
             "#de77ae"
            ],
            [
             0.3,
             "#f1b6da"
            ],
            [
             0.4,
             "#fde0ef"
            ],
            [
             0.5,
             "#f7f7f7"
            ],
            [
             0.6,
             "#e6f5d0"
            ],
            [
             0.7,
             "#b8e186"
            ],
            [
             0.8,
             "#7fbc41"
            ],
            [
             0.9,
             "#4d9221"
            ],
            [
             1,
             "#276419"
            ]
           ],
           "sequential": [
            [
             0,
             "#0d0887"
            ],
            [
             0.1111111111111111,
             "#46039f"
            ],
            [
             0.2222222222222222,
             "#7201a8"
            ],
            [
             0.3333333333333333,
             "#9c179e"
            ],
            [
             0.4444444444444444,
             "#bd3786"
            ],
            [
             0.5555555555555556,
             "#d8576b"
            ],
            [
             0.6666666666666666,
             "#ed7953"
            ],
            [
             0.7777777777777778,
             "#fb9f3a"
            ],
            [
             0.8888888888888888,
             "#fdca26"
            ],
            [
             1,
             "#f0f921"
            ]
           ],
           "sequentialminus": [
            [
             0,
             "#0d0887"
            ],
            [
             0.1111111111111111,
             "#46039f"
            ],
            [
             0.2222222222222222,
             "#7201a8"
            ],
            [
             0.3333333333333333,
             "#9c179e"
            ],
            [
             0.4444444444444444,
             "#bd3786"
            ],
            [
             0.5555555555555556,
             "#d8576b"
            ],
            [
             0.6666666666666666,
             "#ed7953"
            ],
            [
             0.7777777777777778,
             "#fb9f3a"
            ],
            [
             0.8888888888888888,
             "#fdca26"
            ],
            [
             1,
             "#f0f921"
            ]
           ]
          },
          "colorway": [
           "#636efa",
           "#EF553B",
           "#00cc96",
           "#ab63fa",
           "#FFA15A",
           "#19d3f3",
           "#FF6692",
           "#B6E880",
           "#FF97FF",
           "#FECB52"
          ],
          "font": {
           "color": "#2a3f5f"
          },
          "geo": {
           "bgcolor": "white",
           "lakecolor": "white",
           "landcolor": "#E5ECF6",
           "showlakes": true,
           "showland": true,
           "subunitcolor": "white"
          },
          "hoverlabel": {
           "align": "left"
          },
          "hovermode": "closest",
          "mapbox": {
           "style": "light"
          },
          "paper_bgcolor": "white",
          "plot_bgcolor": "#E5ECF6",
          "polar": {
           "angularaxis": {
            "gridcolor": "white",
            "linecolor": "white",
            "ticks": ""
           },
           "bgcolor": "#E5ECF6",
           "radialaxis": {
            "gridcolor": "white",
            "linecolor": "white",
            "ticks": ""
           }
          },
          "scene": {
           "xaxis": {
            "backgroundcolor": "#E5ECF6",
            "gridcolor": "white",
            "gridwidth": 2,
            "linecolor": "white",
            "showbackground": true,
            "ticks": "",
            "zerolinecolor": "white"
           },
           "yaxis": {
            "backgroundcolor": "#E5ECF6",
            "gridcolor": "white",
            "gridwidth": 2,
            "linecolor": "white",
            "showbackground": true,
            "ticks": "",
            "zerolinecolor": "white"
           },
           "zaxis": {
            "backgroundcolor": "#E5ECF6",
            "gridcolor": "white",
            "gridwidth": 2,
            "linecolor": "white",
            "showbackground": true,
            "ticks": "",
            "zerolinecolor": "white"
           }
          },
          "shapedefaults": {
           "line": {
            "color": "#2a3f5f"
           }
          },
          "ternary": {
           "aaxis": {
            "gridcolor": "white",
            "linecolor": "white",
            "ticks": ""
           },
           "baxis": {
            "gridcolor": "white",
            "linecolor": "white",
            "ticks": ""
           },
           "bgcolor": "#E5ECF6",
           "caxis": {
            "gridcolor": "white",
            "linecolor": "white",
            "ticks": ""
           }
          },
          "title": {
           "x": 0.05
          },
          "xaxis": {
           "automargin": true,
           "gridcolor": "white",
           "linecolor": "white",
           "ticks": "",
           "title": {
            "standoff": 15
           },
           "zerolinecolor": "white",
           "zerolinewidth": 2
          },
          "yaxis": {
           "automargin": true,
           "gridcolor": "white",
           "linecolor": "white",
           "ticks": "",
           "title": {
            "standoff": 15
           },
           "zerolinecolor": "white",
           "zerolinewidth": 2
          }
         }
        },
        "title": {
         "text": "Ozone DVs Across Port Arthur, Texas"
        },
        "xaxis": {
         "anchor": "y",
         "domain": [
          0,
          1
         ],
         "range": [
          -94.405,
          -93.669
         ],
         "title": {
          "text": "Long"
         }
        },
        "yaxis": {
         "anchor": "x",
         "domain": [
          0,
          1
         ],
         "range": [
          29.775,
          30.156
         ],
         "title": {
          "text": "Lat"
         }
        }
       }
      }
     },
     "metadata": {},
     "output_type": "display_data"
    }
   ],
   "source": [
    "import plotly.express as px\n",
    "\n",
    "\n",
    "df = pd.DataFrame(columns=['aqsid','Monitor','Lat','Long',\"State\"])\n",
    "# df['aqsid'] = MonitorDict.keys().strip('\"') #remove leading and trailing quote marks\n",
    "df['aqsid'] = MonitorDict.keys() #remove leading and trailing quote marks\n",
    "df['Monitor'] = [MonitorDict[Monitor].get_pollDV_o3() for Monitor in MonitorDict.keys()]\n",
    "df['Lat'] = [MonitorDict[Monitor].get_lat() for Monitor in MonitorDict.keys()]\n",
    "df['Long'] = [MonitorDict[Monitor].get_long() for Monitor in MonitorDict.keys()]\n",
    "df[\"State\"] = [MonitorDict[Monitor].get_state() for Monitor in MonitorDict.keys()]\n",
    "filt = (df['Monitor'] != \"N/A\") & (df['State'] == \"TX\")\n",
    "# filt = (df['Monitor'] != \"N/A\") & (df['State'] == \"NY\") \n",
    "# filt = (df['Monitor'] != \"N/A\") \n",
    "# df[filt]\n",
    "\n",
    "\n",
    "#Convert from PPM to PPB\n",
    "df['Monitor'] = df['Monitor'].apply(lambda x: float(x)*1E3 if x != \"N/A\" else \"N/A\")\n",
    "\n",
    "#Create Boundaries Around Port Arthur, Texas. This is ~35 km box around Port Arthur, TX\n",
    "SW_Lat = 29.775\n",
    "SW_Long = -94.405\n",
    "NE_Lat = 30.156\n",
    "NE_Long = -93.669\n",
    "\n",
    "# #Create Boundaries around NY State\n",
    "# SW_Lat = 39.90\n",
    "# SW_Long = -79.4\n",
    "# NE_Lat = 45.00\n",
    "# NE_Long = -72.71\n",
    "\n",
    "fig = px.scatter(df[filt], \n",
    "# fig = px.scatter(df, \n",
    "x=\"Long\", \n",
    "y=\"Lat\", \n",
    "color=\"aqsid\", \n",
    "title=\"Ozone DVs Across Port Arthur, Texas\",\n",
    "text=\"Monitor\",\n",
    "labels={\n",
    "    \"Lat\": \"Lat\",\n",
    "    \"Long\": \"Long\",\n",
    "    \"Monitor\": \"Ozone Concentration (ppb)\",\n",
    "    \"aqsid\": \"Monitor ID\"\n",
    "   }\n",
    "    )\n",
    "fig.update_xaxes(range=[SW_Long,NE_Long])\n",
    "fig.update_yaxes(range=[SW_Lat,NE_Lat])\n",
    "fig.update_traces(textposition='top right')\n",
    "fig\n"
   ]
  },
  {
   "cell_type": "code",
   "execution_count": 38,
   "metadata": {},
   "outputs": [
    {
     "name": "stdout",
     "output_type": "stream",
     "text": [
      "483611001. West Orange in Orange County at : [30.085, -93.761]\n",
      " Lead DV N/A\n",
      " Ozone DV 0.062\n",
      " 1-hour SO2 DV N/A\n",
      " 3-Hour SO2 DV N/A\n",
      " Annual NO2 DV 4.0\n",
      " 1-Hour NO2 DV N/A\n",
      " Annual PM2.5 DV N/A\n",
      " 24-Hour PM2.5 DV N/A\n"
     ]
    }
   ],
   "source": [
    "print(MonitorDict[\"483611001\"])"
   ]
  }
 ],
 "metadata": {
  "kernelspec": {
   "display_name": "Python 3.8.5 ('base')",
   "language": "python",
   "name": "python3"
  },
  "language_info": {
   "codemirror_mode": {
    "name": "ipython",
    "version": 3
   },
   "file_extension": ".py",
   "mimetype": "text/x-python",
   "name": "python",
   "nbconvert_exporter": "python",
   "pygments_lexer": "ipython3",
   "version": "3.8.5"
  },
  "orig_nbformat": 4,
  "vscode": {
   "interpreter": {
    "hash": "653a54a502e94699e3e020174c7860ac752914007b6220f9b0cd5a5510a84dab"
   }
  }
 },
 "nbformat": 4,
 "nbformat_minor": 2
}
